{
 "cells": [
  {
   "cell_type": "markdown",
   "metadata": {},
   "source": [
    "# Introduction to probabilities\n",
    "\n",
    "\\section{Probability mass function}\n",
    "\\begin{enumerate}\n",
    "\\item let's take fair coin with two sides head $h_h$, and tails $h_t$, in the experiment of flipping the coin k times, the probability (probability mass function) of getting heads is $\\frac{k_{h}}{k}$, and probability of getting tail is $\\frac{k_{t}}{k}$, and the sum of all possible events is $\\frac{k_{h}}{k} + \\frac{k_{t}}{k}=1$, note that $k_{h}+k_{t}=1$.\n",
    "\\item in this experiment the possible outcomes $\\Omega = {head, tail}$, and probability of an event A, $p(A) = \\frac{\\left|A\\right|}{\\left|\\Omega\\right|}$, the sample space in the experiment has size of 2, for event A being head, the frequency of getting head in single coin flip is just 1, then $p(A) = \\frac{1}{2}$.\n",
    "\\item let's take another example, When we throw a die, the obvious choice of the\n",
    "  sample space is $\\Omega = {1, 2, 3, 4, 5, 6}$, and the probability mass function should be\n",
    "  given by p(i) = 1/6, $i = 1, \\dots , 6$. The probability of the event $\\{2, 4, 6\\}$ that the\n",
    "  outcome is even is now easily seen to be $p(\\{2,4,6\\}) = p(2) + p(4) + p(6) = \\frac{1}{2}$.\n",
    "\\end{enumerate}\n",
    "  \\section{Combinatorics}\n",
    "  \\begin{enumerate}\n",
    "  \\item starting with a set, ordered, or unordered (the difference matters in calculation), for example {1,2,3}, the list of ordered subsets of size two are (1,2), (2,1), (1,3), (3,1), (2,3), (3,2); the list of unordered subsets of size two are {1,2}, {1,3}, and {2,3}.\n",
    "  \\item given any set with length n, the number of possible sequences of length k is $n^k$, in the previous example all possible sequences of length 2 is $3^2=6$\n",
    "  \\item the number of ordered subsets of k elements from the same set is: $n \\times (n-1) \\times \\dots \\times (n-k+1)$, in the previous set that is $3 \\times 2$.\n",
    "  \\item the number of subsets of k elements from a set with n elements is n choose k, denoted by $\\binom{n}{k} = \\frac{n \\times (n-1) \\times \\dots \\times (n-k+1)}{k!}=\\frac{n!}{k!(n-k)!}$\n",
    "  \\item Example(with replacement) Consider an urn with eight balls,numbered $1,\\dots, 8$. We draw three balls with replacement, that is, after drawing a ball, we note its number and put it back into the urn, so that it may be drawn a second or even a third time. The sample space $\\Omega$ of this experiment consists of all sequences of length three, with the symbols $1,\\dots, 8$. the sample space $\\Omega$ has $8^3 = 512$ elements. we can conclude for any sequence of length 3 for instance (4, 4, 8) has probability 1/512 to occur.\n",
    "  \\item Example(without replacement) Consider the same urn, with the same balls. We now draw three balls without replacement, that is, a chosen ball is not put back in the urn. We note the numbers of the chosen balls, in order. The sample space $\\Omega^{\\prime}$ corresponding to this event is the set consisting of all sequences of length three with the symbols $1, \\dots , 8$ where each symbol can appear at most once. The number of elements in $\\Omega^{\\prime}$ is the number of ordered subsets of size three. this is equal to 8 × 7 × 6 = 336.\n",
    "  \\item Example(unordered subset) Consider the same urn once more, this time choosing three balls simultaneously, so that the order is irrelevant. This experiment corresponds to the sample space $\\Omega^{\\prime\\prime}$ which consists of all subsets of size  three of a set with eight elements. then $\\Omega^{\\prime\\prime}$ of size 8 with choosing 3 with order $\\frac{8X7X6}{3!} = 56$ elements. the probability to select the set {3, 7, 1} is now 1/56. Note that this is six times the probability of the event in the previous example. The reason for this is that the set {3, 7, 1} can appear in 3! = 6 different orderings.\n",
    "  \\end{enumerate}\n",
    "  \\section{condition probability}\n",
    "  \\begin{enumerate}\n",
    "  \\item for two events A, B in sample space $\\Omega$, suppose $P(B) > 0$:\n",
    "    \\begin{equation} P(A|B)=\\frac{P(A \\cap B)}{P(B)} \\end{equation}\n",
    "  \\item Example1, suppose we throw a die, what is the conditional probability of seeing a 3, conditioned ont he event that the outcome is at most 4? denoting the event of seeing 3 by $E_3$, and the event of the outcome is at most 4 by $E_{\\leq{4}}$, in the obvious sample space, that $P(E_3)=\\frac{1}{6}$, $P(E_{\\leq{4}})=\\frac{2}{3}$, and $P(E_3 \\cap {E_{leq{4}}})=P(E_3)=\\frac{1}{6}$ , hence:\n",
    "    \\begin{equation}\n",
    "      P(E_3|E_{\\leq4}) = \\frac{P(E_3 \\cap E_{\\leq4})}{P(E_{\\leq})} = \\frac{1/6}{2/3} = \\frac{1}{4}\n",
    "    \\end{equation}\n",
    "  \\item Example2: suppose we have a population of people, suppose in addition that the probability that an individual has a certain disease is 1/100. There is a test for this disease, and this test is 90\\% acccurate, in the sense that the probability that a sick person is tested positive is 09, and that a healthy person is tested positive with probability 0.1. One particular individual is tested positive. Perhaps this individual is inclined to think the following: 'I have been tested positive by a test which is accurate 90% of the time, so the probability that I have the disease is 0.9, However, this is not correct, considering the first given statement.\n",
    "  \\item let A be the event that this individual has the disease, and let B be the event that the test is positive. The individual is interested in the conditional probability $P(A|B)$. for a sick person, the test is positive with probability 0.9, Hence $P(B|A)=0.9$, and $P(B|A^c)=0.1$, and that $P(A) =0.01$.\n",
    "    \\begin{equation}\n",
    "      P(A|B) = \\frac{P(A\\cap{B})}{P(B)} = \\frac{P(B|A)P(A)}{P(B|A)P(A) + P(B|A^c)P(A^c)}\n",
    "    \\end{equation}\n",
    "    \\begin{equation}\n",
    "      = \\frac{0.9*0.01}{0.9*0.01+0.1*0.99} = 0.09\n",
    "      \\end{equation}\n",
    "    \\end{enumerate}\n",
    "  \\section{bayes rule}\n",
    "  \\begin{enumerate}\n",
    "  \\item we can generalize the previous rule, let $B_1,B_2,\\dots,B_3$ be a partition of $\\Omega$ such that $P(B_i)>0$ for all i, and let A be any event with $P(A)>0$, then for all i,\n",
    "    \\begin{equation}\n",
    "      P(B_i|A) = \\frac{P(A|B_i)P(B_i)}{\\sum_{j=1}^{n}P(A|B_j)P(B_j)}\n",
    "    \\end{equation}\n",
    "  \\end{enumerate}\n",
    "\n"
   ]
  },
  {
   "cell_type": "markdown",
   "metadata": {},
   "source": [
    "## Motiviational example, are you ready?"
   ]
  },
  {
   "cell_type": "markdown",
   "metadata": {},
   "source": [
    "# Naive Bayes\n",
    "\n",
    "<img src='https://miro.medium.com/max/1200/0*qFuHAV7Vd09064q-.jpeg'>\n",
    "\n"
   ]
  },
  {
   "cell_type": "code",
   "execution_count": 37,
   "metadata": {},
   "outputs": [],
   "source": [
    "import numpy as np\n",
    "import pandas as pd\n",
    "import seaborn as sns\n",
    "import matplotlib.pyplot as plt\n",
    "from sklearn.model_selection import train_test_split\n",
    "from sklearn.feature_extraction.text import TfidfVectorizer\n",
    "from sklearn.naive_bayes import MultinomialNB\n",
    "from sklearn.metrics import accuracy_score, confusion_matrix\n",
    "\n",
    "%matplotlib inline\n",
    "sns.set(rc={'figure.figsize': [10, 10]}, font_scale=1.2)"
   ]
  },
  {
   "cell_type": "code",
   "execution_count": 39,
   "metadata": {},
   "outputs": [],
   "source": [
    "df = pd.read_csv('sentiment.csv',sep='\\t',names=['Liked','Tweet'])"
   ]
  },
  {
   "cell_type": "code",
   "execution_count": 40,
   "metadata": {},
   "outputs": [
    {
     "data": {
      "text/html": [
       "<div>\n",
       "<style scoped>\n",
       "    .dataframe tbody tr th:only-of-type {\n",
       "        vertical-align: middle;\n",
       "    }\n",
       "\n",
       "    .dataframe tbody tr th {\n",
       "        vertical-align: top;\n",
       "    }\n",
       "\n",
       "    .dataframe thead th {\n",
       "        text-align: right;\n",
       "    }\n",
       "</style>\n",
       "<table border=\"1\" class=\"dataframe\">\n",
       "  <thead>\n",
       "    <tr style=\"text-align: right;\">\n",
       "      <th></th>\n",
       "      <th>Liked</th>\n",
       "      <th>Tweet</th>\n",
       "    </tr>\n",
       "  </thead>\n",
       "  <tbody>\n",
       "    <tr>\n",
       "      <th>0</th>\n",
       "      <td>1</td>\n",
       "      <td>The Da Vinci Code book is just awesome.</td>\n",
       "    </tr>\n",
       "    <tr>\n",
       "      <th>1</th>\n",
       "      <td>1</td>\n",
       "      <td>this was the first clive cussler i've ever rea...</td>\n",
       "    </tr>\n",
       "    <tr>\n",
       "      <th>2</th>\n",
       "      <td>1</td>\n",
       "      <td>i liked the Da Vinci Code a lot.</td>\n",
       "    </tr>\n",
       "    <tr>\n",
       "      <th>3</th>\n",
       "      <td>1</td>\n",
       "      <td>i liked the Da Vinci Code a lot.</td>\n",
       "    </tr>\n",
       "    <tr>\n",
       "      <th>4</th>\n",
       "      <td>1</td>\n",
       "      <td>I liked the Da Vinci Code but it ultimatly did...</td>\n",
       "    </tr>\n",
       "    <tr>\n",
       "      <th>...</th>\n",
       "      <td>...</td>\n",
       "      <td>...</td>\n",
       "    </tr>\n",
       "    <tr>\n",
       "      <th>6913</th>\n",
       "      <td>0</td>\n",
       "      <td>Brokeback Mountain was boring.</td>\n",
       "    </tr>\n",
       "    <tr>\n",
       "      <th>6914</th>\n",
       "      <td>0</td>\n",
       "      <td>So Brokeback Mountain was really depressing.</td>\n",
       "    </tr>\n",
       "    <tr>\n",
       "      <th>6915</th>\n",
       "      <td>0</td>\n",
       "      <td>As I sit here, watching the MTV Movie Awards, ...</td>\n",
       "    </tr>\n",
       "    <tr>\n",
       "      <th>6916</th>\n",
       "      <td>0</td>\n",
       "      <td>Ok brokeback mountain is such a horrible movie.</td>\n",
       "    </tr>\n",
       "    <tr>\n",
       "      <th>6917</th>\n",
       "      <td>0</td>\n",
       "      <td>Oh, and Brokeback Mountain was a terrible movie.</td>\n",
       "    </tr>\n",
       "  </tbody>\n",
       "</table>\n",
       "<p>6918 rows × 2 columns</p>\n",
       "</div>"
      ],
      "text/plain": [
       "      Liked                                              Tweet\n",
       "0         1            The Da Vinci Code book is just awesome.\n",
       "1         1  this was the first clive cussler i've ever rea...\n",
       "2         1                   i liked the Da Vinci Code a lot.\n",
       "3         1                   i liked the Da Vinci Code a lot.\n",
       "4         1  I liked the Da Vinci Code but it ultimatly did...\n",
       "...     ...                                                ...\n",
       "6913      0                     Brokeback Mountain was boring.\n",
       "6914      0       So Brokeback Mountain was really depressing.\n",
       "6915      0  As I sit here, watching the MTV Movie Awards, ...\n",
       "6916      0    Ok brokeback mountain is such a horrible movie.\n",
       "6917      0   Oh, and Brokeback Mountain was a terrible movie.\n",
       "\n",
       "[6918 rows x 2 columns]"
      ]
     },
     "execution_count": 40,
     "metadata": {},
     "output_type": "execute_result"
    }
   ],
   "source": [
    "df"
   ]
  },
  {
   "cell_type": "code",
   "execution_count": 41,
   "metadata": {},
   "outputs": [
    {
     "data": {
      "text/plain": [
       "<matplotlib.axes._subplots.AxesSubplot at 0x7fd2c9827c40>"
      ]
     },
     "execution_count": 41,
     "metadata": {},
     "output_type": "execute_result"
    },
    {
     "data": {
      "image/png": "[encoded data removed]",
      "text/plain": [
       "<Figure size 720x720 with 1 Axes>"
      ]
     },
     "metadata": {},
     "output_type": "display_data"
    }
   ],
   "source": [
    "sns.countplot(x='Liked', data=df)"
   ]
  },
  {
   "cell_type": "code",
   "execution_count": 42,
   "metadata": {},
   "outputs": [],
   "source": [
    "x = df[\"Tweet\"]\n",
    "y = df[\"Liked\"]\n",
    "x_train, x_test, y_train, y_test = train_test_split(x, y, test_size=0.2, random_state=22)\n",
    "tfidv = TfidfVectorizer(stop_words='english')\n",
    "tfidv.fit(x_train)\n",
    "x_train = tfidv.transform(x_train)\n",
    "x_test = tfidv.transform(x_test)"
   ]
  },
  {
   "cell_type": "code",
   "execution_count": null,
   "metadata": {},
   "outputs": [],
   "source": [
    "pd.DataFrame(x_train.toarray(), columns=tfidv.get_feature_names())"
   ]
  },
  {
   "cell_type": "code",
   "execution_count": 44,
   "metadata": {},
   "outputs": [
    {
     "data": {
      "text/plain": [
       "MultinomialNB()"
      ]
     },
     "execution_count": 44,
     "metadata": {},
     "output_type": "execute_result"
    }
   ],
   "source": [
    "model = MultinomialNB()\n",
    "model.fit(x_train, y_train)"
   ]
  },
  {
   "cell_type": "code",
   "execution_count": 45,
   "metadata": {},
   "outputs": [
    {
     "data": {
      "text/plain": [
       "array([[580,  18],\n",
       "       [  7, 779]])"
      ]
     },
     "execution_count": 45,
     "metadata": {},
     "output_type": "execute_result"
    }
   ],
   "source": [
    "# test the model on the test_set\n",
    "y_pred = model.predict(x_test)\n",
    "#calculate the accuracy\n",
    "accuracy_score(y_test, y_pred)\n",
    "#print confusion_matrix\n",
    "confusion_matrix(y_test, y_pred)"
   ]
  },
  {
   "cell_type": "code",
   "execution_count": 46,
   "metadata": {},
   "outputs": [
    {
     "data": {
      "text/plain": [
       "array([1])"
      ]
     },
     "execution_count": 46,
     "metadata": {},
     "output_type": "execute_result"
    }
   ],
   "source": [
    "model.predict(tfidv.transform(['I love The Matrix Movie']))"
   ]
  },
  {
   "cell_type": "markdown",
   "metadata": {},
   "source": [
    "# calculus\n",
    "  \\begin{enumerate}\n",
    "  \\item given a function $f(x)$, how to calculate the rate of change at specific point of time?\n",
    "  \\item the rate of change = $\\frac{\\Delta{y}}{\\Delta{x}}$\n",
    "  \\item but first how to interpret the rate of change? it's how var the function f changes per x, for example for f being the function of distance, and x is the time the rate of change is the average speed.\n",
    "  \\item what if we are only interested of the speed at specific infinitesimal point? that is when the derivative is useful.\n",
    "  \\item the derivative is the infinitesimal rate of change, or in other words, the rate of change of function f(x) when $\\Delta{x} \\to {0}$\n",
    "    \\item to generalize this rule the derivative of f(x)\n",
    "    \\begin{equation} \\frac{df(x)}{dx}=\\lim_{\\Delta x \\to 0}\\frac{f(x+\\Delta{x})-f(x))}{\\Delta x} \\end{equation}\n",
    "    \\section{derivatives of most common function}\n",
    "    \\begin{itemize}\n",
    "    \\item \\begin{equation} \\frac{d}{dx}x^a = ax^{a-1} \\end{equation}\n",
    "    \\item \\begin{equation} \\frac{d}{dx}e^x = e^x \\end{equation}\n",
    "    \\item \\begin{equation} \\frac{d}{dx}a^x = a^xln(a) \\mid a>0 \\end{equation}\n",
    "    \\item \\begin{equation} \\frac{d}{dx}ln(x) = \\frac{1}{x} \\mid x>0 \\end{equation}\n",
    "    \\item \\begin{equation} \\frac{d}{dx}\\log_{a}(x) = \\frac{1}{xln(a)} \\mid x,a>0 \\end{equation}\n",
    "    \\item \\begin{equation} \\frac{d}{dx} sin(x) = cos(x) \\end{equation}\n",
    "    \\item \\begin{equation} \\frac{d}{dx} cos(x) = -sin(x) \\end{equation}\n",
    "    \\item \\begin{equation} \\frac{d}{dx} tan(x) = sec^2(x) \\end{equation}\n",
    "    \\end{itemize}\n",
    "  \\end{enumerate}\n",
    "  \\section{higher derivatives}\n",
    "  \\begin{enumerate}\n",
    "  \\item we learned to calculate the first derivative or the infinitesimal rate of change, for function f(x), if y=f(x) is the function of distance, and $y\\prime=\\frac{df(x)}{dx}$ is the velocity, then the second rate (acceleration) of change $y\\prime\\prime=\\frac{d}{dx}\\frac{df(x)}{dx}$ is calculate using the same rules above.\n",
    "  \\item note that for a function f(x) to be differentiable is has to be continuous over x.\n",
    "  \\end{enumerate}\n",
    "  \\section{partial derivatives}\n",
    "  \\begin{enumerate}\n",
    "  \\item so far we discussed function defined in single variable, what if f is defined in two dimensions, or 3 dimensions, for example, f(x,y,z) could be the function of position of variable defined in x,y,z axis, the derivative is defined similarly in x,y,z respectively, and denoted as such:\n",
    "    \\begin{equation} \\frac{\\partial{f}}{\\partial{x}} = \\frac{\\partial{f(x,y,z)}}{\\partial{x}} \\end{equation}\n",
    "    \\begin{equation} \\frac{\\partial{f}}{\\partial{y}} = \\frac{\\partial{f(x,y,z)}}{\\partial{y}} \\end{equation}\n",
    "    \\begin{equation} \\frac{\\partial{f}}{\\partial{z}} = \\frac{\\partial{f(x,y,z)}}{\\partial{z}} \\end{equation}\n",
    "    \\begin{equation} \\nabla{f(x,y,z)} = \\frac{\\partial{f(x,y,z)}}{\\partial{x}}\\hat{i} +\\frac{\\partial{f(x,y,z)}}{\\partial{x}}\\hat{j} + \\frac{\\partial{f(x,y,z)}}{\\partial{x}}\\hat{k} \\end{equation}\n",
    "  \\item for example $f(x,y,z) = x^2 + y^2 + 2z + 1$, then\n",
    "    \\begin{equation} \\nabla{f(x,y,z)} = 2x\\hat{i} + 2y\\hat{j} + 2\\hat{k} \\end{equation}\n",
    "  \\item meaning that the derivative of f in x-axis = 2x, and on y-axis is 2y, and on z-axis is 2\n",
    "\n",
    "  \\end{enumerate}\n",
    "  \\section{chain-rule of partial derivatives}\n",
    "  \\begin{enumerate}\n",
    "  \\item for function f defined in terms of second function g, where g is defined in terms of third function z, where z is function of x as follows f(g(z(x))), what is $\\frac{df}{dx}$?\n",
    "    \\begin{equation} \\frac{df}{dx} = \\frac{\\partial{f}}{\\partial{g}}\\frac{\\partial{g}}{\\partial{z}}\\frac{\\partial{z}}{\\partial{x}} \\end{equation}\n",
    "  \\item Example assume $f(g(z(x)))$ is the function of position of a particle, $f(g) = g^2$, $g(z)=z^2, z(x)=2x$, what is the speed of the particle? particle speed: $\\frac{\\partial{f}}{x}$:\n",
    "    \\begin{equation} \\frac{\\partial{f}}{\\partial{g}}\\frac{\\partial{g}}{\\partial{z}}\\frac{\\partial{z}}{\\partial{x}} = 2g*2z*2 \\end{equation}\n",
    "  \\end{enumerate}\n",
    "  \\section{integrals}\n",
    "  \\begin{enumerate}\n",
    "  \\item starting with the derivative $\\frac{f(x)}{dx}$, how can we derive the original function f(x)?\n",
    "  \\item remember $y\\prime=\\frac{f(x)}{dx}$, then $y\\prime{dx=df(x)}$, the reverse of the $d$ operator is the integral operator $\\int$, thus $f(x) =\\int{y\\prime{dx}}$\n",
    "  \\item since the integral operator is the inverse of the derivative operator, we can reverse the direction of the derivatives above to derive the rules for integration:\n",
    "    \\begin{itemize}\n",
    "    \\item \\begin{equation} \\int ax^{a-1} = x^a + c  \\end{equation}\n",
    "    \\item \\begin{equation} \\int e^x = e^x + c\\end{equation}\n",
    "    \\item \\begin{equation} \\int a^xln(a) = a^x +c \\mid a>0 \\end{equation}\n",
    "    \\item \\begin{equation} \\int \\frac{1}{x} = ln(x)  \\mid x>0 \\end{equation}\n",
    "    \\item \\begin{equation} \\int \\frac{1}{xln(a)} = \\log_{a}(x) +c   \\mid x,a>0 \\end{equation}\n",
    "    \\item \\begin{equation} \\int cos(x) = sin(x) + c\\end{equation}\n",
    "    \\item \\begin{equation} \\int sin(x) = -cos(x) + c   \\end{equation}\n",
    "    \\item \\begin{equation} \\int sec^2(x) =  tan(x) + c   \\end{equation}\n",
    "    \\end{itemize}\n",
    "  \\item note that the c is the derivative constant, but why it's there?\n",
    "  \\item imagine the original function $y=f(x) = x^2 + 1$\n",
    "    \\begin{equation}  y\\prime=\\frac{df(x)}{dx} = 2x \\end{equation}\n",
    "    \\begin{equation} \\int y\\prime dx = \\int 2x = x^2 + c \\end{equation}\n",
    "    \\item note if we didn't add the constant c, then there is no way to derive the intercept 1, and the way to recover is through any valid point from the original function, for example the point$(1,2)$ satisfies f(x), $2 = 1 + c$, then $c=1$, thus the original equation $y=x^2+1$.\n",
    "  \\end{enumerate}\n",
    "  \\section{integration defined over a range}\n",
    "  \\begin{enumerate}\n",
    "  \\item the integration for function $\\frac{df(x)}{dx}$, defined over an interval [a-b], denoted by:\n",
    "    \\begin{equation} \\int_{a}^{b}\\frac{df(x)}{dx} dx= f(x) |_{a}^{b} = f(b) - f(a) \\end{equation}\n",
    "  \\end{enumerate}\n",
    "  \\begin{enumerate}\n",
    "  \\item Exercise, for a car moving to the left from the origin at rest moving in a straight line, such that for a short time it's velocity is defined by $v=(3t^2+2t)$ ft/s, where t in seconds, determine its position and acceleration when $t=3$ s, when $t=0$, $s=0$.\n",
    "    \\item for the position:\n",
    "       \\begin{equation} v = \\frac{ds}{dt} = (3t^2+2t) \\end{equation}\n",
    "       \\begin{equation} \\int_{0}^{2} ds = \\int_{0}^{t} (3t^2 + 2t)dt \\end{equation}\n",
    "       \\begin{equation} s|_{0}^{s} = t^3 + t+2|_{0}^{t} \\end{equation}\n",
    "     \\item at time t=3 s,\n",
    "       \\begin{equation} s = 3^3 + 3^2 = 36 ft \\end{equation}\n",
    "     \\item for acceleration:\n",
    "       \\begin{equation} a = \\frac{v}{t} = \\frac{d(3^2+2t)}{dt} \\end{equation}\n",
    "       \\begin{equation}  = 6t + 2 \\end{equation}\n",
    "     \\item when t=3s,\n",
    "       \\begin{equation} a = 6(3) + 2 = 20 ft/s^2 \\end{equation}\n",
    "  \\end{enumerate}\n",
    "\n"
   ]
  },
  {
   "cell_type": "markdown",
   "metadata": {},
   "source": [
    "# Linear Algebra\n",
    "\n",
    "\\section{vector}\n",
    "  \\begin{enumerate}\n",
    "  \\item what is a vector? so far we have been dealing with scale variables, or variables expressed in single dimension thus scalar, imagine a hinge fixed on the wall, the reactionary force from the wall against he hinge is expressed in three dimension, and can be expressed in x,y,z axis respectively:\n",
    "    \\begin{equation} F=\\begin{vmatrix}f_x\\\\f_y\\\\f_z\\end{vmatrix} \\end{equation}\n",
    "  \\item variables expressed in terms of vectors have it's own rules of arithmetic, for two vectors\n",
    "    \\begin{equation} v_a = \\begin{vmatrix}3\\\\6\\end{vmatrix}, and v_b = \\begin{vmatrix}1\\\\2\\end{vmatrix} \\end{equation}.\n",
    "  \\item addition, and subtractions are straight forward, and executed for each dimension separately\n",
    "    \\subsection{addition}\n",
    "    \\begin{enumerate}\n",
    "      \\item .\n",
    "       \\begin{equation} v_a + v_b = \\begin{vmatrix}3+1\\\\6+2\\end{vmatrix} \\end{equation}\n",
    "      \\end{enumerate}\n",
    "    \\subsection{subtraction}\n",
    "    \\begin{enumerate}\n",
    "      \\item .\n",
    "      \\item \\begin{equation} v_a - v_b = \\begin{vmatrix}3-1\\\\6-2\\end{vmatrix} \\end{equation}\n",
    "      \\end{enumerate}\n",
    "    \\subsection{dot product}\n",
    "    \\begin{enumerate}\n",
    "    \\item the dot product is representation of how var two vectors are aligned to each others, the dot product between two vector is maximum if the two vectors are aligned along the same line, and is zero if both vectors are perpendicular.\n",
    "      \\begin{equation} v_a . v_b = \\left|v_a\\right|*\\left|v_b\\right|*cos(\\theta) \\end{equation}\n",
    "        \\item  $\\theta$ is the angle between the two vectors\n",
    "    \\end{enumerate}\n",
    "    \\subsection{cross product}\n",
    "    \\begin{enumerate}\n",
    "    \\item the cross product is representation of area between two vector, the resultant vector is perpendicular to the plane wrapping the two vectors.\n",
    "      \\begin{equation} v_a \\times v_b = \\left|v_a\\right|\\left|v_b\\right|*sin(\\theta) \\end{equation}\n",
    "        \\item $\\theta$ is the angle between the two vectors\n",
    "      \\end{enumerate}\n",
    "  \\end{enumerate}\n",
    "  "
   ]
  },
  {
   "cell_type": "code",
   "execution_count": 2,
   "metadata": {},
   "outputs": [],
   "source": [
    "import numpy as np"
   ]
  },
  {
   "cell_type": "code",
   "execution_count": 3,
   "metadata": {},
   "outputs": [],
   "source": [
    "V_a = np.array([1, 2, 3])\n",
    "V_b = np.array([2, 4, 6])\n"
   ]
  },
  {
   "cell_type": "code",
   "execution_count": 4,
   "metadata": {},
   "outputs": [],
   "source": [
    "V_c = np.add(V_a, V_b)"
   ]
  },
  {
   "cell_type": "code",
   "execution_count": 5,
   "metadata": {},
   "outputs": [
    {
     "data": {
      "text/plain": [
       "array([3, 6, 9])"
      ]
     },
     "execution_count": 5,
     "metadata": {},
     "output_type": "execute_result"
    }
   ],
   "source": [
    "V_c"
   ]
  },
  {
   "cell_type": "code",
   "execution_count": 6,
   "metadata": {},
   "outputs": [],
   "source": [
    "V_c = np.subtract(V_a, V_b)"
   ]
  },
  {
   "cell_type": "code",
   "execution_count": 7,
   "metadata": {},
   "outputs": [
    {
     "data": {
      "text/plain": [
       "array([-1, -2, -3])"
      ]
     },
     "execution_count": 7,
     "metadata": {},
     "output_type": "execute_result"
    }
   ],
   "source": [
    "V_c"
   ]
  },
  {
   "cell_type": "code",
   "execution_count": 8,
   "metadata": {},
   "outputs": [],
   "source": [
    "V_c = np.dot(V_a, V_b)"
   ]
  },
  {
   "cell_type": "code",
   "execution_count": 9,
   "metadata": {},
   "outputs": [
    {
     "data": {
      "text/plain": [
       "28"
      ]
     },
     "execution_count": 9,
     "metadata": {},
     "output_type": "execute_result"
    }
   ],
   "source": [
    "V_c"
   ]
  },
  {
   "cell_type": "code",
   "execution_count": 10,
   "metadata": {},
   "outputs": [],
   "source": [
    "V_c = np.cross(V_a, V_b)"
   ]
  },
  {
   "cell_type": "code",
   "execution_count": 11,
   "metadata": {},
   "outputs": [
    {
     "data": {
      "text/plain": [
       "array([0, 0, 0])"
      ]
     },
     "execution_count": 11,
     "metadata": {},
     "output_type": "execute_result"
    }
   ],
   "source": [
    "V_c"
   ]
  },
  {
   "cell_type": "markdown",
   "metadata": {},
   "source": [
    "### why the cross product is zero?!"
   ]
  },
  {
   "cell_type": "markdown",
   "metadata": {},
   "source": [
    "\\section{Matrix}\n",
    " \\begin{enumerate}\n",
    "  \\item so far we talked about scalar variables, and vector variables, the variable be a collection of vectors?\n",
    "  \\item in many fields such as robotics, machine learning, and even pure mathematics, there is always a need to perform the same computation, or arithmetic on a collection of vectors at once to either save computation time, or mathematical elegance, and simplicity, for this reason matrices are required, but what are they?\n",
    "  \\item matrix is a collection of vectors of any size, for example for vectors in 3-dimensions, a matrix of 2 vectors is 3X2 matrix, a matrix of 4 vectors is 3X4 matrix, and mXn matrix is written as follow: $\\begin{vmatrix}e_{11}&&e_{12}&& \\dots &&e_{1n} \\\\ e_{21}&&e_{22}&& \\dots &&e_{2n} \\\\\\vdots\\\\ e_{m1}&&e_{m2}&& \\dots &&e_{mn}\\end{vmatrix}$\n",
    "  \\item but what a matrix represent? ti can be set of force vectors acting on a rigid body, pixels on an image, robot kinematics state, rotation, or transformation  matrix, you can think of a matrix as a data-set of different numerical features.\n",
    "  \\subsection{arithmetic on the matrix}\n",
    "      \\item for two matrices of the same shape, 3X3 matrices $A = \\begin{vmatrix}1&3&5\\\\7&9&11\\\\13&15&17\\end{vmatrix}$, and $B=\\begin{vmatrix}0&2&4\\\\6&8&10\\\\12&14&16\\end{vmatrix}$.\n",
    "      \\item in addition, and subtraction you need to make sure the two matrices are of the same size, otherwise, the operation fails, just like in vectors.\n",
    "       \\subsection{addition}\n",
    "        \\item A+B:\n",
    "          \\begin{equation} \\begin{vmatrix}0+1&2+3&4+5\\\\6+7&8+9&10+11\\\\12+13&14+15&16+17\\end{vmatrix}\\end{equation}\n",
    "      \\subsection{subtraction}\n",
    "        \\item A-B:\n",
    "          \\begin{equation} \\begin{vmatrix}0-1&2-3&4-5\\\\6-7&8-9&10-11\\\\12-13&14-15&16-17\\end{vmatrix}\\end{equation}\n",
    "      \\subsection{multiplication}\n",
    "        \\item A*B:\n",
    "          \\begin{equation} \\begin{vmatrix}0*1+2*7+4*13&&0*3+2*9+4*15&&0*5+2*11+4*17\\\\6*1+8*7+10*13&&6*3+8*9+10*15&&6*5+8*11+10*17\\\\6*1+8*7+10*13&&6*3+8*9+10*15&&6*5+8*11+10*17\\end{vmatrix} \\end{equation}\n",
    "        \\item notice we multiply each row's entries from the first matrix by each column's entries, from the second matrix, also notice that matrix multiplication isn't symmetric, for example $A\\times B\\neq{B}\\times A$\n",
    "        \\item what is the size of the output matrix?\n",
    "        \\item $A_{m\\times k}$ is a matrix of size $m\\times k$, and $B_{k\\times n}$ is a matrix of shape $k\\times n$, the multiplication is possible only if the number of columns in the first matrix equals to the number of rows in the second matrix, and the resultant matrix is $m\\times n$ matrix.\n",
    "        \\item for example $A_{3X2}\\times B_{2X4}=C_{3X4}$, mean while $B_{2X4} \\times A_{3X2}$ isn't valid operation for the columns of B(first) is 4, and the rows of A(second) is 3, and $4\\neq3$, thus, the operation isn't valid.\n",
    "        \\item the product of two matrices can be interpreted as the transformation of one matrix by another.\n",
    "      \\subsection{Determinant}\n",
    "         \\item Determinant is a metric of measuring the spread of a square-matrix $n\\times n$ vector, or scalar value for the volumn between the matrix vectors.\n",
    "          \\item Determinant of matrix A is $\\left|A\\right|$:\n",
    "      \\subsection{determinant of 2X2 matrix}\n",
    "          \\item for a square 2X2 matrix:\n",
    "          \\item $\\left|A\\right| = \\begin{vmatrix}a&b\\\\c&d\\end{vmatrix} = ad-bc$\n",
    "      \\subsection{determinant of 3X3 matrix}\n",
    "          \\item  for a square 3X3 matrix:\n",
    "          \\item $\\left|A\\right| = \\begin{vmatrix}a&b&c\\\\d&e&f\\\\g&h&i\\end{vmatrix} = a.det(\\begin{vmatrix}e&f\\\\h&i\\end{vmatrix}) - b.det(\\begin{vmatrix}d&f\\\\g&i\\end{vmatrix}) + c.det(\\begin{vmatrix}d&e\\\\g&h\\end{vmatrix})$\n",
    "          \\item note that the odd indices have positive sign, and the even indices have negative sign.\n",
    "            \\subsection{determinant of nXn matrix}\n",
    "          \\item the determinant of nXn matrix can be generalize previous maintaining positive signs for odd indices, and negative sign for even indices\n",
    "          \\item for example for 4X4 matrix:\n",
    "            \\begin{equation} det(\\begin{vmatrix}a&b&c&d\\\\e&f&g&h\\\\i&j&k&l\\\\m&n&o&p\\end{vmatrix}) =\\end{equation}\n",
    "                \\begin{equation} a.det(\\begin{vmatrix}f&g&h\\\\j&k&l\\\\n&o&p\\end{vmatrix}) - b.det(\\begin{vmatrix}e&g&h\\\\i&k&l\\\\m&o&p\\end{vmatrix}) + c.det(\\begin{vmatrix}e&f&h\\\\i&j&l\\\\m&n&p\\end{vmatrix}) - d.det(\\begin{vmatrix}e&f&g\\\\i&j&k\\\\m&n&o\\end{vmatrix}) \\end{equation}\n",
    "      \\subsection{Transpose}\n",
    "          \\item the transpose of a matrix A is $A^T$ the function of replacing rows with columns in the same relative order.\n",
    "             \\begin{equation}  A = \\begin{vmatrix}a&b\\\\c&d\\end{vmatrix} \\mid A^T =\\begin{vmatrix}a&c\\\\b&d\\end{vmatrix} \\end{equation}\n",
    "          \\item note that $(A^T)^T = A$\n",
    "      \\subsection{Adjugate}\n",
    "          \\item adjugate is a function over a square matrix, has wide spread in geometry, robotics, and machine learning, and used to define the inverse of a matrix.\n",
    "          \\item adjugate of a matrix A, is the transpose of the Cofactor of A.\n",
    "      \\subsection{adjugate of 2X2 matrix}\n",
    "          \\item for $A=\\begin{vmatrix}a&b\\\\c&d\\end{vmatrix}$,  $adj(A)=\\begin{vmatrix}d&-b\\\\-c&a\\end{vmatrix}$.\n",
    "      \\subsection{adjugate of nXn matrix}\n",
    "          \\item adjugate of more than 2X2 matrix can get very complex, and usually calculated with numerical libraries.\n",
    "      \\subsection{inverse}\n",
    "          \\item inverse of a matrix is analogous to the inverse in scalar variables, but calculated differently, the inverse of A, is $A^-1=\\frac{1}{A}$.\n",
    "                  \\begin{equation} A^-1 = \\frac{1}{det(A)}adj(A) \\end{equation}\n",
    "       \\subsection{Identity}\n",
    "          \\item the identity matrix I is a square matrix with value 1 on the left diagonal, zeroed-out in the upper, and lower triangles of the matrix.\n",
    "          \\begin{equation} I_n=\\begin{vmatrix}1&0&\\dots&0\\\\0&1&\\dots&0\\\\\\vdots\\\\0&0&\\dots&1\\end{vmatrix} \\end{equation}\n",
    "          \\item for matrix $A_{n\\times n}$, and identity matrix $I_{n \\times n}$,\n",
    "             \\begin{itemize}\n",
    "              \\item $A*I = A = I*A$\n",
    "              \\item $I^T=I$\n",
    "              \\item $I^-1=I$\n",
    "             \\end{itemize}\n",
    "  \\end{enumerate}\n"
   ]
  },
  {
   "cell_type": "code",
   "execution_count": 17,
   "metadata": {},
   "outputs": [],
   "source": [
    "import numpy as np\n",
    "M_a = np.array([[1,3,5],[3,4,6],[1,2,3]])\n",
    "M_b = np.array([[3,1,6], [3,1,7],[3,1,6]])"
   ]
  },
  {
   "cell_type": "code",
   "execution_count": 18,
   "metadata": {},
   "outputs": [
    {
     "data": {
      "text/plain": [
       "array([[ 4,  4, 11],\n",
       "       [ 6,  5, 13],\n",
       "       [ 4,  3,  9]])"
      ]
     },
     "execution_count": 18,
     "metadata": {},
     "output_type": "execute_result"
    }
   ],
   "source": [
    "M_c = np.add(M_a, M_b)\n",
    "M_c"
   ]
  },
  {
   "cell_type": "code",
   "execution_count": 19,
   "metadata": {},
   "outputs": [
    {
     "data": {
      "text/plain": [
       "array([[-2,  2, -1],\n",
       "       [ 0,  3, -1],\n",
       "       [-2,  1, -3]])"
      ]
     },
     "execution_count": 19,
     "metadata": {},
     "output_type": "execute_result"
    }
   ],
   "source": [
    "M_c = np.subtract(M_a, M_b)\n",
    "M_c"
   ]
  },
  {
   "cell_type": "code",
   "execution_count": 20,
   "metadata": {},
   "outputs": [
    {
     "data": {
      "text/plain": [
       "array([[27,  9, 57],\n",
       "       [39, 13, 82],\n",
       "       [18,  6, 38]])"
      ]
     },
     "execution_count": 20,
     "metadata": {},
     "output_type": "execute_result"
    }
   ],
   "source": [
    "M_c = np.dot(M_a, M_b)\n",
    "M_c"
   ]
  },
  {
   "cell_type": "code",
   "execution_count": 22,
   "metadata": {},
   "outputs": [
    {
     "data": {
      "text/plain": [
       "array([[ 3,  3, 30],\n",
       "       [ 9,  4, 42],\n",
       "       [ 3,  2, 18]])"
      ]
     },
     "execution_count": 22,
     "metadata": {},
     "output_type": "execute_result"
    }
   ],
   "source": [
    "M_c = M_a*M_b\n",
    "M_c"
   ]
  },
  {
   "cell_type": "code",
   "execution_count": 31,
   "metadata": {},
   "outputs": [
    {
     "data": {
      "text/plain": [
       "array([[-5.92118946e-16,  1.00000000e+00, -2.00000000e+00],\n",
       "       [-3.00000000e+00, -2.00000000e+00,  9.00000000e+00],\n",
       "       [ 2.00000000e+00,  1.00000000e+00, -5.00000000e+00]])"
      ]
     },
     "execution_count": 31,
     "metadata": {},
     "output_type": "execute_result"
    }
   ],
   "source": [
    "inv = np.linalg.inv(M_a)\n",
    "inv"
   ]
  },
  {
   "cell_type": "code",
   "execution_count": 32,
   "metadata": {},
   "outputs": [
    {
     "data": {
      "text/plain": [
       "1.000000000000001"
      ]
     },
     "execution_count": 32,
     "metadata": {},
     "output_type": "execute_result"
    }
   ],
   "source": [
    "det = np.linalg.det(M_a)\n",
    "det"
   ]
  },
  {
   "cell_type": "markdown",
   "metadata": {},
   "source": [
    "# Statistics\n",
    "  \n",
    "\\section{data}\n",
    " \\begin{enumerate}\n",
    "    \\item statistics is theory of making sense of the data, through certain tools we will explore.\n",
    "    \\item but first what is data? what is the data looks like? data set is matrix, or list of vectors, a vector can be Qualitative, or Quantitative.\n",
    "    \\subsection{data types}\n",
    "      \\item \\textbf{Qualitative data}:\n",
    "      \\begin{itemize}\n",
    "         \\item \\textbf{Nominal}: nominal data are categorical data types i.e  sex, status, religion, there is no priorities between different states.\n",
    "         \\item \\textbf{Ordinal}: ordinal data type is a discrete categorical data type meaning there are priorities, or in other words comparison between different states is possible i.e shoes, or shirt size.\n",
    "      \\end{itemize}\n",
    "      \\item \\textbf{Quantitative data}:\n",
    "      \\begin{itemize}\n",
    "         \\item \\textbf{Discrete}: discrete data is monotonically increasing numerical discrete data i.e number of electrons in the cell, or pages of a book.\n",
    "         \\item \\textbf{Continuous}: continuous numerical data such as temperature of a day: $45.3^\\circ$, or height 177.3 cm.\n",
    "      \\end{itemize}\n",
    "      \\item given a data-set of tens, hundreds or thousands of entries, or even millions of entries, how can we make sense of it all?!\n",
    " \\end{enumerate}"
   ]
  },
  {
   "cell_type": "markdown",
   "metadata": {},
   "source": [
    "\\section{Anecdotal Evidence}\n",
    " \\begin{enumerate}\n",
    "    \\item we agreed we have a large data-set from hundreds, thousands, to millions of entries, we can't derive a conclusion about the whole data-set from a single entry! for example if the data-set represent  the temperature of Cairo in the previous 3 months, assume a single entry was for midnight $10^\\circ$ we can take this entry as a representative of the temperature of Cairo! this is called \\textbf{Anecdotal evidence}, this is very common in the biased media, and journalism, and considered a bad trait of course.\n",
    "  \\end{enumerate}\n"
   ]
  },
  {
   "cell_type": "markdown",
   "metadata": {},
   "source": [
    "\\section{Descriptive Statistics}\n",
    " \\begin{enumerate}\n",
    "    \\item How can we reach a conclusion over the whole data-set  from a single number?\n",
    "    \\item there are different aspects to look at \\textbf{Central Tendency}, \\textbf{Dispersion}, and \\textbf{Correlation}.\n",
    " \\end{enumerate} \n"
   ]
  },
  {
   "cell_type": "markdown",
   "metadata": {},
   "source": [
    "\\section{Central Tendency}\n",
    " \\begin{enumerate}\n",
    "    \\item central tendency are set of statistical tools to summarizing the most effective entries  of the data-set\n",
    "        \\subsection{Mean}\n",
    "       \\item the most common of them all is the mean, defined as follows: for data-set of \\textbf{m} entries of variable x\n",
    "       \\begin{equation} \\mu = \\frac{1}{m}\\sum_{i=1}^{m}x_i \\end{equation}\n",
    "       \\item for example what is the average of for 3 days temperature? the measurements are 44, 45, and 46, the average is $\\frac{44+45+46}{3} = 45$\n",
    "       \\item in short the mean of variable X is the average of variable X.\n",
    "    \\subsection{Median}\n",
    "       \\item in a variable X of numerical values, median is the middle entry, if we said Ahmed is 25, Alaa 27, heba is 24, Ali is 31 mohammed is 29, what is the median, or the middle value? first let's wort this age variable 24, 25, 27, 29, 31, the middle value is 27, so the Media is Alaa's age.\n",
    "    \\subsection{Mode}\n",
    "       \\item the most recurrent entry in the data-set variable is coined the Mode, for example if we extend the previous example, if we said Ahmed is 25, Alaa 27, heba is 24, Ali is 31, sara is 25 mohammed is 29, what is the Mode, or the most recurrent value? notice here the 24 is the most recurrent, with frequency of two, thus 24 is the mode.\n",
    " \\end{enumerate}"
   ]
  },
  {
   "cell_type": "markdown",
   "metadata": {},
   "source": [
    "\n",
    "\\section{Dispersion}\n",
    " \\begin{enumerate}\n",
    "    \\item the dispersion of two different variable from different distributions of the same features can varies, for example $X_1$ can be the variable for change in temperature in London (which is cold most of the time), and $X_2$ can be the variable for change in temperature in Cairo (which varies greatly between season), the dispersion of variable $X_2$ spans larger extend/range compared with $X_1$, for example [1,2,3,4,5] is more wide-spread compared to \\[2,3,4\\], how can we measure dispersion?\n",
    "    \\subsection{variance, and standard deviation}\n",
    "       \\item variance of variable X is of size m the measurement of how far variable X is disperse, and defined as such:\n",
    "       \\begin{equation} \\sigma = \\frac{\\sum_{i=1}^m(x_i-\\mu)^2}{m} \\end{equation}\n",
    "       \\item we can express the variance as the normalization, or average of the sum of demeaned entries, this represents the average of how far each entry from the mean $\\mu$\n",
    "       \\item standard deviation is defined as $\\sqrt{\\sigma}$\n",
    "    \\subsection{percentile}\n",
    "       \\item the \\textbf{n}th percentile is a threshold percentage before which \\textbf{n}th percent of date falls behind.\n",
    "       \\item for example what is the 25th percentile is 100 for a variable X?  this means that 25\\% of the data are less than 100.\n",
    "   \\subsection{range}\n",
    "       \\item the difference between the highest, and lowest entries values for variable X is coined the range, for example the X = [3,6,9,12], the range of $x  = 12-3=9$.\n",
    "\n",
    "\\end{enumerate}"
   ]
  },
  {
   "cell_type": "markdown",
   "metadata": {},
   "source": [
    "   \\section{Inter Quartile Range IQR}\n",
    "    \\begin{enumerate}\n",
    "   \\subsection{Outliers}\n",
    "      \\item outliers are few entries with values greatly deviating from the mean.\n",
    "      \\item let's taken an example, consider class of 5 students Omar is 22, Asmaa is 23, Sara is 34, Magid is 26, while Saad is 105, what is the average age of the students in the class?\n",
    "      \\begin{equation} \\mu = \\frac{22+23+34+26+105}{5}=42 \\end{equation}\n",
    "      \\item note 42 is larger than most students in the class, how can this makes any sense? does the mean in this case represent most of the students? No, this is due to the very old age of Saad being 105! if we removed this entry from the data set, what is the average age in the class once again?\n",
    "      \\begin{equation} \\mu = \\frac{22+23+34+26}{4}=26.25 \\end{equation}\n",
    "      \\item does this make any sense? is it close most of the students?\n",
    "      \\item there is a way to represent most of the data?\n",
    "      \\item let's define IQR, it's a bounding box around the data between the \\textbf{25}th percentile/first Quartile, and \\textbf{75}th percentile/third Quartile  while the \\textbf{50}th/the median in between, and the Inter Quartile \\textbf{Range} is the range from  first quartile to the third quartile, this range captures most of the data and at least 50\\% of the data for uniform distribution, so we can safely clam that most of the data resides within the boundaries of IQR.\n",
    "   \\subsection{Outliers detection}\n",
    "      \\item a test made by statisticians for outliers detection is based of this assumption those entries further away from the median are considered Qutliers, but how much further? any entry outside the following range is considered outlier:\n",
    "      \\begin {equation} [1^{st}Quartile - 1.5*IQR \\to 3^{rd} Quartile + 1.5 * IQR ] \\end{equation}\n",
    "      \\item so far we have learned to derive general conclusion over the whole data set using the tools of Central Tendency, and Dispersion we seen so far, How can we derive conclusions on the relation between different variables in the data-set?\n",
    "        \\end{enumerate}"
   ]
  },
  {
   "cell_type": "markdown",
   "metadata": {},
   "source": [
    "\n",
    "\\section{Correlation}\n",
    "  \\begin{enumerate}\n",
    "      \\item for two variables X, Y, how var those two variables are correlated?\n",
    "      \\item please keep in mind that positive correlation means as X increase Y also increase, and the reverse, and negative correlation means as X increase, Y decreases, and the reverse is also true.\n",
    "      \\item let's take few examples:\n",
    "        \\begin{itemize}\n",
    "        \\item what is the correlation between Weight(X), and Height(Y) of humans? are they correlated? positively, or negatively?\n",
    "        \\item what is the correlation between Educational Level(X), and Salary(Y)? is it positive or negative?\n",
    "        \\item what is the correlation between Smoking(X), and Life Expectancy(Y)? is it positive or negative\n",
    "        \\end{itemize}\n",
    "        \\subsection{Pearson correlation}\n",
    "      \\item pearson's score is within -1, and 1, -1 means absolutely negatively correlated variables, and being highest positive correlation possible, ~0 means no correlation at all, and values within ]0-1] means positive corelation, while [-1,0[ means negative correlation.\n",
    "            \\item definition:\n",
    "              \\begin{equation} r = \\frac{\\sum_{i=1}^{m}(X-\\mu_{x})(Y-\\mu_{y})}{(m-1)\\sigma_x\\sigma_y} \\end{equation}\n",
    "      \\subsection{Covariance}\n",
    "    \\item Covariance is less neat compared to Pearson correlation, it's the same equation without the normalization by the standard deviation of both variables, meaning the range of correlation is between $-\\infty$, and $\\infty$\n",
    "      \\begin{equation} S_{xy}^2 = \\frac{\\sum_{i=1}^{m}(X-\\mu_{x})(Y-\\mu_{y})}{(m-1)} \\end{equation}\n",
    "  \\end{enumerate}"
   ]
  },
  {
   "cell_type": "markdown",
   "metadata": {},
   "source": [
    "\\section{distribution}\n",
    "  \\begin{enumerate}\n",
    "  \\item Distribution if a probability function of all possible outcomes.\n",
    "  \\item there are wide range of distribution as there are wide range of function, the distribution can be uniform meaning each even occur with the same probability as each other event, or completely non-uniform, and almost indescribable, there are several of studied distributions, the most common in nature, and almost all field of sciences is the Normal/Gaussian distribution, also known as Bell curve.\n",
    "  \\item assume f(x) is the function of height, and x is the variable for Egyptian males\\textbf{What is the probability of Egyptian male being 177 cm tall?} what if i told you that this is the average height for Egyptian male, can you make a guess? is it 0.3 (5%)? more? (20%)?, even more? (50%)? believe it or note the answer to this question is 0! it's almost impossible for a person to be exactly 177 cm tall1 for example $177.1 \\neq 177$cm , also $177.000001\\neq177$cm!\n",
    "    \\item how to reformulate the question to be more realistic, or sensible? recall the definition of \\textbf{pdf}, or the density mass function as integral defined over a range, or the area under the curve within that range, $\\int_{a}^{b}f(x)dx$\n",
    "    \\item once again what is the probability for Egyptian male to be around 177cm? how can you formulate this mathematically? using pdf we can write it as such\n",
    "      \\begin{equation} \\int_{167.5}^{177.5}f(x)dx \\end{equation}\n",
    "    \\item now we are certainly sure that this is much larger than zero, and it's interpreted as follow what is the probability of Egyptian male's height  being within \\[167.5-177.5\\]cm that is ~177cm.\n",
    "    \\item what is the probability of Egyptian male being of any height? first how to formulate this mathematically?\n",
    "      \\begin{equation} \\int_{-\\infty}^{\\infty}f(x)dx \\end{equation}\n",
    "    \\item the answer is of course 1\n",
    "    \\subsection{Gaussian distribution}\n",
    "  \\item the bell curve is described by the standard mean, and the standard deviation.\n",
    "  \\item the mean of the Gaussian distribution is happens to be the mode, and median.\n",
    "    \\subsection{Examples on the Gaussian distribution}\n",
    "    \\item why the Gaussian is so important?\n",
    "    \\begin{itemize}\n",
    "    \\item the arrival of train at the station is distributed normally.\n",
    "    \\item human intelligence anywhere in the world is normally distributed.\n",
    "    \\item the quality of manufacturing fits normal distribution.\n",
    "    \\end{itemize}\n",
    "    \\item can you think of more examples?\n",
    "    \\subsection{empirical rule}\n",
    "    \\item the empirical rule indicate that:\n",
    "      \\begin{itemize}\n",
    "        \\item ~68% or 68.27% of the population are within $\\sigma$.\n",
    "        \\item ~95% or 95.45% are within $2\\sigma$.\n",
    "          \\item ~100% or 99.7% are within $3\\sigma$.\n",
    "      \\end{itemize}\n",
    "    \\item the Gaussian distribution for variable x is defined as follows:\n",
    "      \\begin{equation} f(x) = \\frac{1}{\\sigma\\sqrt{2\\pi}}e^{-\\frac{(x-\\mu)^2}{2\\sigma^2}} \\end{equation}\n",
    "    \\item note e is Euler constant ~2.7, $\\sigma$ is the standard deviation, while $\\mu$ is the mean of variable x, $\\pi$ is the famous constant ~3.14!\n",
    "    \\item also notice there is a negative sign on the power.\n",
    " \\end{enumerate}\n",
    " "
   ]
  },
  {
   "cell_type": "markdown",
   "metadata": {},
   "source": [
    "how random noise around a line looks like?"
   ]
  },
  {
   "cell_type": "code",
   "execution_count": 55,
   "metadata": {},
   "outputs": [],
   "source": [
    "from utils import *"
   ]
  },
  {
   "cell_type": "code",
   "execution_count": 56,
   "metadata": {},
   "outputs": [
    {
     "data": {
      "image/png": "[encoded data removed]",
      "text/plain": [
       "<Figure size 432x288 with 1 Axes>"
      ]
     },
     "metadata": {
      "needs_background": "light"
     },
     "output_type": "display_data"
    },
    {
     "name": "stdout",
     "output_type": "stream",
     "text": [
      "[[10.9035014   2.89530602]\n",
      " [ 2.89530602  2.39440104]]\n"
     ]
    }
   ],
   "source": [
    "from numpy.random import randn\n",
    "X = np.linspace(1, 10, 1000) + randn(1000)*2\n",
    "Y = np.linspace(1, 5, 1000) + randn(1000)\n",
    "plot_correlated_data(X, Y)\n",
    "print(np.cov(X, Y))\n",
    "\n"
   ]
  },
  {
   "cell_type": "code",
   "execution_count": 57,
   "metadata": {},
   "outputs": [
    {
     "data": {
      "image/png": "[encoded data removed]",
      "text/plain": [
       "<Figure size 432x288 with 1 Axes>"
      ]
     },
     "metadata": {
      "needs_background": "light"
     },
     "output_type": "display_data"
    },
    {
     "name": "stdout",
     "output_type": "stream",
     "text": [
      "[[1.00166412 0.00251838]\n",
      " [0.00251838 0.98988126]]\n"
     ]
    }
   ],
   "source": [
    "X = randn(100000)\n",
    "Y = randn(100000)\n",
    "plot_correlated_data(X, Y)\n",
    "print(np.cov(X, Y))"
   ]
  },
  {
   "cell_type": "markdown",
   "metadata": {},
   "source": [
    "here is how the gaussian looks like?"
   ]
  },
  {
   "cell_type": "code",
   "execution_count": 44,
   "metadata": {},
   "outputs": [
    {
     "data": {
      "image/png": "[encoded data removed]",
      "text/plain": [
       "<Figure size 432x288 with 1 Axes>"
      ]
     },
     "metadata": {
      "needs_background": "light"
     },
     "output_type": "display_data"
    }
   ],
   "source": [
    "\n",
    "mean = [2., 17.]\n",
    "cov = [[10., 0.], \n",
    "       [0., 4.]]\n",
    "\n",
    "plot_3d_covariance(mean, cov)\n",
    "\n"
   ]
  },
  {
   "cell_type": "code",
   "execution_count": 45,
   "metadata": {},
   "outputs": [
    {
     "data": {
      "image/png": "[encoded data removed]",
      "text/plain": [
       "<Figure size 432x288 with 1 Axes>"
      ]
     },
     "metadata": {
      "needs_background": "light"
     },
     "output_type": "display_data"
    }
   ],
   "source": [
    "\n",
    "xs = np.arange(15, 30, 0.05)\n",
    "plt.plot(xs, gaussian(xs, 23, 0.2**2), label='$\\sigma^2=0.2^2$')\n",
    "plt.plot(xs, gaussian(xs, 23, .5**2), label='$\\sigma^2=0.5^2$', ls=':')\n",
    "plt.plot(xs, gaussian(xs, 23, 1**2), label='$\\sigma^2=1^2$', ls='--')\n",
    "plt.legend();\n",
    "\n"
   ]
  },
  {
   "cell_type": "markdown",
   "metadata": {},
   "source": [
    "## the imperical rule"
   ]
  },
  {
   "cell_type": "code",
   "execution_count": 49,
   "metadata": {},
   "outputs": [
    {
     "data": {
      "image/png": "[encoded data removed]",
      "text/plain": [
       "<Figure size 432x288 with 1 Axes>"
      ]
     },
     "metadata": {
      "needs_background": "light"
     },
     "output_type": "display_data"
    }
   ],
   "source": [
    "display_stddev_plot()\n",
    "\n"
   ]
  },
  {
   "cell_type": "markdown",
   "metadata": {},
   "source": [
    "\\section{Z-score}\n",
    "  \\begin{enumerate}\n",
    "  \\item the z-score the normalization of the demeaned sample by the standard deviation, defined as:\n",
    "    \\begin{equation} \\frac{x-\\mu}{\\sigma} \\end{equation}\n",
    "  \\item Here is an example of how a z-score applies to a real life situation and how it can be calculated using a z-table. Imagine a group of 200 applicants who took a math test. George was among the test takers and he got 700 points (X) out of 1000. The average score was 600 ($\\mu$) and the standard deviation was 150 ($\\sigma$). Now we would like to know how well George performed compared to his peers.\n",
    "  \\item Z-score for George is $\\frac{700-600}{150} = 0.67$, from the z-table this is equivalent to the ~75% percent, meaning that George is one of the top ~25%.\n",
    "  \\item note that using \\textbf{pdf} function over the Gaussian distribution function we introduced the following table can be calculated.\n",
    "    \\subsection{negative z-table}\n",
    "      <img src='https://www.ztable.net/wp-content/uploads/2018/11/negativeztable.png'>\n",
    "\n",
    "\\end{enumerate}"
   ]
  },
  {
   "cell_type": "markdown",
   "metadata": {},
   "source": [
    "\\subsection{positive z-table}\n",
    " <img src='https://www.ztable.net/wp-content/uploads/2018/11/positiveztable.png'>\n"
   ]
  },
  {
   "cell_type": "markdown",
   "metadata": {},
   "source": [
    "\n",
    " \\section{Interval Estimate}\n",
    "    \\begin{enumerate}\n",
    "    \\item consider the following problem, we are interested in the covid19 statistics, a team of researchers, started gathering samples, and their tasks is to estimate the percentage of true positive.\n",
    "    \\item let's assume that the team have gathered sample from population of 1000 person at random, in a country of 100 million, that is 0.001\\%, in reality a research is usually inducted on sample of perhaps 200 person, so 1000 is a large sample, can we trust the results of this experiment, and generalize the results to the whole population?\n",
    "    \\item instead we can calculate the same results with certain confidence rate, let's say, the domain of \\textbf{confidence rate} in this experiment is 95\\% (note that this assumption varies from domain to another), hence the uncertainty is $1 - confidence$ let's define $\\alpha=1-$\\textbf{confidence rate}, so in this case $\\alpha=1-95\\%=0.05$\n",
    "    \\item note that a Gaussian distribution is almost perfectly symmetric, and the 95\\% confidence is the first 2$\\sigma$ around the mean, while the other 5\\% is distributed on the tails, 2.5\\% on the right tail, and another 2.5\\% on the other left tail, let's coin this the name $\\alpha/2=\\frac{\\alpha}{2}$\n",
    "    \\item now we are interest in the estimation at uncertainty $\\sigma/2$, how can we calculate that?\n",
    "      \\subsection{Reliability factor}\n",
    "    \\item reliability factor, it's an indicator of the threshold of acceptable certainty, and denoted by $Z_{\\alpha/2}$, or in other words the Z-score for the uncertainty $\\alpha/2$.\n",
    "    \\item but how this indicate the Reliability?\n",
    "      \\item let's take very high confidence rate of 99\\% the z-score for it is around -4 on the left hand side of the distribution, and ~4 on the right hand side of the distribution, on the other hand, the if we have low certainty as 50\\% the equivalent z-score is 0!, so the higher the confidence rate, the higher the reliability factor.\n",
    "      \\subsection{Confidence Interval}\n",
    "    \\item confidence interval for variable x is the answer for this question, instead making a point estimate $\\bar{x}$, we evaluate the latter with how var we are uncertain about the results using the \\textbf{Reliability Factor} $Z_{\\sigma/2}$, and \\textbf{Standard Error} $\\sigma_{\\bar{x}}$, defined as follows:\n",
    "      \\begin{equation}  \\bar{x} \\pm Z_{\\sigma/2} * \\sigma_{\\bar{x}} \\end{equation}\n",
    "    \\end{enumerate}\n"
   ]
  },
  {
   "cell_type": "markdown",
   "metadata": {},
   "source": [
    "\\section{Hypothesis Testing}\n",
    "  \\begin{itemize}\n",
    "    \\item assume a research in conducting a research, academically what hypothesis the unbiased researcher ought to adopt before and after the experiments?\n",
    "    \\item the academic starts with null hypothesis, and based off research he, or she can adopt the alternative if the experiment shows otherwise.\n",
    "\\end{itemize}"
   ]
  },
  {
   "cell_type": "markdown",
   "metadata": {},
   "source": [
    "\\subsection{Null against Alternative Hypothesis}\n",
    "   \\begin{itemize}\n",
    "       \\item \\textbf{Null Hypothesis}: it's the first hypothesis of equality, for example that the patient is sick, or the blood pressure is $ \\geq 100$, or $ \\leq 80$.\n",
    "       \\item \\textbf{Alternative Hypothesis}: it's the final hypothesis of inequality, for example the patient isn't sick, or the blood pressure is $ < 100$, or $ > 80$.\n",
    "       \\item assume there is an experiment, after which is measure the uncertainty, and compare it with the original $\\alpha$ of the null hypothesis.\n",
    "       \\item if the uncertainty of the new experiment against the null hypothesis is lower than the uncertainty of the null hypothesis, then the believe/certainty  in the alternative hypothesis is higher, and thus we reject the null hypothesis, and adopt the alternative one.\n",
    "       \\item how can we interpret the uncertainty?\n",
    "   \\end{itemize}"
   ]
  },
  {
   "cell_type": "markdown",
   "metadata": {},
   "source": [
    "\\subsection{p-value}\n",
    "    \\begin{itemize}\n",
    "         \\item \\textbf{p-value}: under the assumption that the null hypothesis is correct, it's the probability of obtaining test results at least as extreme as the observed results.\n",
    "         \\item how p-value in interpreted? a very small p-value means that the observed extreme outcomes are very unlikely, thus the null hypothesis is rejected, on the other hand, for a large p-value the null hypothesis is asserted that the observed outcomes are highly likely.\n",
    "         \\item how to express p-value mathematically? p-value is the z-score from the z-table, for example p-value of 3.4 correspond to 99\\% z-score meaning that the confidence in the observed data is extremely high, and the conducted experiment assert the null hypothesis, on the other hand -3.4 z-value has corresponding 0.03\\% z-score, this means that the believe in the null hypothesis is very unlikely.\n",
    "         \\item what threshold at which we determine what the z-score is low, or high? actually this changes from domain to another, and specific to each problem, for each problem the researcher decide confidence rate, or level of certainty, and compare p-value against $\\alpha$, if \\textbf{p-value < $\\alpha$} then the null hypothesis is rejected.\n",
    "         \\item \\textbf{Example}: Current average waiting period for the customers who call the customer service helpline is 100 seconds with a standard deviation of 20 seconds. Certain changes were recently done to the IVR menu options as well as the overall customer service processes. After a week, the management picked-up a sample of 100 calls and found that the average waiting period was 95 seconds. Have the process implementations resulted in the waiting period reduction?\n",
    "           \\item \\textbf{Null hypothesis}: there is no change in the waiting period.\n",
    "           \\item \\textbf{Alternative hypothesis}: the waiting period has reduced.\n",
    "           \\item \\textbf{significance Level} is assumed for this experiment to be 95\\%, thus $\\alpha=5\\%$\n",
    "           \\item parameter read: $\\mu=100$, $\\sigma=20$, $N=100$, $\\bar{X}=95$\n",
    "           \\item let's compute the parameters of the experiment: $\\sigma_{\\bar{x}}=\\frac{\\sigma}{\\sqrt{N}}=2$, and $z=\\frac{\\bar{X}-\\mu}{\\sigma_{\\bar{x}}}=-2.5$\n",
    "           \\item the p-value is the corresponding z-score, from the z-table p-value is 0.62\\%\n",
    "           \\item 0.62 < 5, thus the null hypothesis is rejected, and the we can deduce that the waiting period has reduced.\n",
    "  \\end{itemize}"
   ]
  },
  {
   "cell_type": "markdown",
   "metadata": {},
   "source": [
    "\n",
    "# mathematics of Gradient Descent (case study Logistic regression)\n",
    "\n",
    "\\section{definitions}\n",
    "  \\begin{enumerate}\n",
    "  \\item we need an estimate function $\\hat{y}$ for the input x, and weight prameters w$\\in R^{n_x}, b\\in R$.\n",
    "  \\item logstic function is $\\hat{y}=p(y=1|x)$, and can be defined as follows: $\\hat{y}=\\sigma(w^Tx+b)$, where the sigma function is defined by $\\sigma(z)=\\frac{1}{1+e^{-z}}$, and notice when z $\\to \\infty, \\sigma = 1, z \\to -\\infty, \\sigma =0$.\n",
    "  \\item\n",
    "  \\end{enumerate}\n",
    "\\section{cost function}\n",
    "  \\begin{enumerate}\n",
    "  \\item starting with a estimation linear forward model $\\hat{y}$, we calculate the difference between our estimate, and the real value $y$, and through optimization we try to minimize the difference, or loss/cost through gradient descent, then we update our model's parameters.\n",
    "  \\item loss function is minimizing the difference between estimation ${\\hat{y}, y}$, and can be defined as least squre $L(\\hat{y}, y)=\\frac{1}{2}(\\hat{y} - y)$, but least squares leads to non-convex loss function(with multiple local minimums).\n",
    "  \\item there are different loss functions, but the most efficient is that which maximize the difference. we can define $P(y|x^{(i)}, \\theta) = h(x^{(i)},\\theta)^{y^{(i)}}(1-h(x^{(i)},\\theta)^{1-y^{(i)}}$, to increase the sensitivity to the training set we take the likelihood function, as the loss, $L(\\theta)=\\prod_{i=1}^mP(y|x^{(i)}, \\theta)$.\n",
    "  \\item one final step in our model is that as m gets larger L tend to go to zero, to solve this we define the average sum of log-likelihood, or loss function to be our Cost function.\n",
    "  \\item we multiply by -1 since the sum of the log-likelihood function is negative.\n",
    "  \\item the Cost function  $J(\\theta)=\\frac{1}{m}\\sum_{i=1}^{m}log(h(x^{(i)},\\theta)^{y^{(i)}}(1-h(x^{(i)},\\theta)^{1-y^{(i)}})$\n",
    "\n",
    "  \\item loss function is defined as $L(\\hat{y}, y)=-[ylog(\\hat{y}) - (1-y)log(1-\\hat{y})]$, L$\\in[0-1]$.\n",
    "\n",
    "  \\item cost function is defined as the average of loss function $J(w,b)=\\frac{1}{m}\\sum_{i=1}^{m}L(\\hat{y^{(i)}}, y)$\n",
    "  \\end{enumerate}\n",
    "\n",
    "  \\section{Gradient Descent}\n",
    "\n",
    "  \\begin{enumerate}\n",
    "\n",
    "  \\item gradient descent is a way to tune the weighting parameters, the objective is the lean toward the fittest weights with respect to the least cost.\n",
    "  \\item iterate through cost function $\\mathbf{J}$ tuning with respect to weight parameters  $\\mathbf{w}$, $\\mathbf{b}$.\n",
    "  \\item iterate through: $w:=w-\\alpha\\frac{\\partial{J}}{\\partial{w}}$,  $b:=b-\\alpha\\frac{\\partial{J}}{\\partial{b}}$, for tuning w, b for the least $\\mathbf{J}$ possible, such that $\\alpha$ is the learning rate of GD.\n",
    "  \\item for simplicity $\\partial{J}/\\partial{w}$ replaced for $\\partial{w}$, and similarly $\\partial{J}/\\partial{b}$ is replaced for $\\partial{b}$.\n",
    "  \\item forward propagation, $$\\partial w = \\frac{\\partial{J}}{\\partial{L}}\\frac{\\partial{L}}{\\partial{\\hat{y}}}\\frac{\\partial{\\hat{y}}}{\\partial{z}}\\frac{\\partial{z}}{\\partial{w}}$$, similarly $$\\partial b = \\frac{\\partial{J}}{\\partial{L}}\\frac{\\partial{L}}{\\partial{\\hat{y}}}\\frac{\\partial{\\hat{y}}}{\\partial{z}}\\frac{\\partial{z}}{\\partial{b}}$$.\n",
    "  \\item $$\\partial{L}/\\partial{\\hat{y}}=\\frac{-y}{\\hat{y}} + \\frac{(1-y)}{1-\\hat{y}}$$, $$\\partial{\\hat{y}}/\\partial{z}=\\frac{-e^{-z}}{1+e^{-z}} = \\hat{y}(1-\\hat{y}).$$\n",
    "  \\item $\\partial{L}/\\partial{z}=\\hat{y}-y$.\n",
    "  \\item then we can deduce that the final iteration gradient descent step after calculating sigma, loss, and cost functions can be  $$w:=w-\\frac{\\alpha}{m}\\sum_{i=1}^m\\frac{\\partial{L}}{\\partial{b}}=\\frac{\\alpha}{m}X^T(\\hat{y}-y)$$, and $$b:=b-\\frac{\\alpha}{m}\\sum_{i=1}^{m}(\\hat{y}-y)$$.\n",
    "  \\end{enumerate}\n",
    "\n",
    "\n",
    "  \\section{Update parameters}\n",
    "  \\begin{enumerate}\n",
    "  \\item we implement the following algorithm with a fixed number of iteration that is customized per application, and tuned by the Engineer, such that each application would require different tuning parameters from which is the iteration number.\n",
    "  \\item we iterate the following: update the parameters $\\omega$, b, in the back propagation step using $\\partial{\\omega}$, $\\partial{b}$.\n",
    "  \\item $$\\omega = \\omega - \\frac{\\alpha}{m}X^T(y-\\hat{y})$$\n",
    "  \\item $$b = b - \\frac{\\alpha}{m}(y-\\hat{y})$$\n",
    "  \\end{enumerate}\n",
    "\n"
   ]
  },
  {
   "cell_type": "markdown",
   "metadata": {},
   "source": [
    "## How to implement those functions in python?"
   ]
  },
  {
   "cell_type": "code",
   "execution_count": null,
   "metadata": {},
   "outputs": [],
   "source": [
    "#initialize vector of shape (dim, 1)\n",
    "# @return b initialized scalar (corresponds to the bias)\n",
    "def initialize_with_zeros(dim):\n",
    "    w = np.zeros((dim, 1))\n",
    "    b = 0\n",
    "    return w, b\n",
    "\n",
    "## Randomly initialize the parameters W, b.\n",
    "#\n",
    "# @param n_x size of the input layer\n",
    "# @param n_h size of the hidden layer\n",
    "# @param n_y size of the output layer\n",
    "# @return params dictionary of parameters:\n",
    "#                    W1 -- weight matrix of shape (n_h, n_x)\n",
    "#                    b1 -- bias vector of shape (n_h, 1)\n",
    "#                    W2 -- weight matrix of shape (n_y, n_h)\n",
    "#                    b2 -- bias vector of shape (n_y, 1)\n",
    "def initialize_parameters(n_x, n_h, n_y):\n",
    "    np.random.seed(2) \n",
    "    W1 = np.random.randn(n_h, n_x)*0.01\n",
    "    b1 = np.zeros((n_h, 1))\n",
    "    W2 = np.random.randn(n_y, n_h)*0.01\n",
    "    b2 = np.zeros((n_y, 1))\n",
    "    assert (W1.shape == (n_h, n_x))\n",
    "    assert (b1.shape == (n_h, 1))\n",
    "    assert (W2.shape == (n_y, n_h))\n",
    "    assert (b2.shape == (n_y, 1))\n",
    "    parameters = {\"W1\": W1,\n",
    "                  \"b1\": b1,\n",
    "                  \"W2\": W2,\n",
    "                  \"b2\": b2}\n",
    "    return parameters\n",
    "\n",
    "## linear activation function\n",
    "#\n",
    "# @param w (m,1) weight matrix\n",
    "# @param X (m,n) input matrix\n",
    "# @param b (1) bias \n",
    "# @return z (1,m) linear estimation\n",
    "def linear(w, X, b):\n",
    "    z = np.dot(w.T, X) + b\n",
    "    return z\n",
    "\n",
    "## sigmoid activation\n",
    "#\n",
    "# @param z is the input (can be a scalar or an array)\n",
    "# @return h the sigmoid of z\n",
    "def sigmoid(z):\n",
    "    return 1/(1+np.exp(-1*z))\n",
    "\n",
    "## compute log likelihood of the logistic regression\n",
    "#\n",
    "# @param Y (1,m) labeled vector Output\n",
    "# @param h (1,m) estimated output\n",
    "# @return J (1) scalar cost function output\n",
    "def compute_cost(Y, h):\n",
    "    m=Y.shape[1]\n",
    "    def compute_loss():\n",
    "        L=np.dot(Y.T, np.log(h)) + np.dot((1-Y).T, np.log((1-h)))\n",
    "        return L.squeeze()\n",
    "    J = -1.0/m * compute_loss()\n",
    "    return J\n",
    "\n",
    "## Update weight values with single gradient descent step.\n",
    "#\n",
    "# @param w (n,1) weight vector .\n",
    "# @param dw (n,1) weight vector of dJ/dw.\n",
    "# @param b scalar bias.\n",
    "# @param db scalar dJ/db.\n",
    "# @param alpha scalar is the learning reate.\n",
    "# @return tuple of new (w,b).\n",
    "def update_weight(w, dw, b, db, alpha):\n",
    "    w = w - alpha * dw\n",
    "    b = b - alpha * db\n",
    "    return w, b\n",
    "\n",
    "\n",
    "## Implement Forward, and Backward propagation, the cost function and its gradient .\n",
    "#\n",
    "# @param w weights, a numpy array of size (n,1)\n",
    "# @param b bias, a scalar\n",
    "# @param X data of size (n,m)\n",
    "# @param Y true \"label\" vector {0,1} (1,m)\n",
    "# @return cost negative log-likelihood cost for logistic regression\n",
    "# @return dw gradient of the loss with respect to w, thus same shape as w\n",
    "# @return db gradient of the loss with respect to b, thus same shape as b\n",
    "def propagate(w, b, X, Y):\n",
    "    m = X.shape[1]\n",
    "    z = linear(w, X, b)\n",
    "    h = sigmoid(z)\n",
    "    cost = compute_cost(Y, h)\n",
    "    dw = 1.0/m * (np.dot(X, (h-Y).T))\n",
    "    db = 1.0/m * np.sum(h-Y)\n",
    "    assert(dw.shape == w.shape)\n",
    "    assert(db.dtype == float)\n",
    "    assert(cost.shape == ())\n",
    "    grads = {\"dw\": dw,\n",
    "             \"db\": db}\n",
    "    return grads, cost\n",
    "\n",
    "## This function optimizes w and b by running a gradient descent algorithm\n",
    "#     \n",
    "# @param w weights, a numpy array of size (n,1)\n",
    "# @param b bias, a scalar\n",
    "# @param X data of shape (n,m)\n",
    "# @param Y true \"label\" vector (containing 0 if non-cat, 1 if cat), of shape (1, number of examples)\n",
    "# @param num_iterations number of iterations of the optimization loop\n",
    "# @param learning_rate learning rate of the gradient descent update rule\n",
    "# @param print_cost True to print the loss every 100 steps\n",
    "# @return params dictionary containing the weights w and bias b\n",
    "# @return grads dictionary containing the gradients of the weights and bias with respect to the cost function\n",
    "# @return costs list of all the costs computed during the optimization, this will be used to plot the learning curve.\n",
    "def gradient_descent(w, b, X, Y, num_iterations=1000, alpha=0.001, print_cost = False):\n",
    "    costs = []\n",
    "    for i in range(num_iterations):\n",
    "        grads, cost = propagate(w, b, X, Y)\n",
    "        dw = grads[\"dw\"]\n",
    "        db = grads[\"db\"]\n",
    "        w,b = update_weight(w, dw, b, db, alpha)\n",
    "        # track cost\n",
    "        if i % 100 == 0:\n",
    "            costs.append(cost)\n",
    "        # Print the cost every 100 training iterations\n",
    "        if print_cost and i % 100 == 0:\n",
    "            print (\"Cost after iteration %i: %f\" %(i, cost))\n",
    "    \n",
    "    params = {\"w\": w,\n",
    "              \"b\": b}\n",
    "    \n",
    "    grads = {\"dw\": dw,\n",
    "             \"db\": db}\n",
    "    \n",
    "    return params, grads, costs"
   ]
  },
  {
   "cell_type": "markdown",
   "metadata": {},
   "source": [
    "Motivational example, are you ready?"
   ]
  },
  {
   "cell_type": "markdown",
   "metadata": {},
   "source": [
    "# Linear Regression\n",
    "\n",
    "Linear Regression is a statistical technique which is used to find the linear relationship between dependent and one or more independent variables. This technique is applicable for Supervised learning Regression problems where we try to predict a continuous variable.\n",
    "\n",
    "Linear Regression can be further classified into two types – Simple and Multiple Linear Regression. In this project, I employ Simple Linear Regression technique where I have one independent and one dependent variable. It is the simplest form of Linear Regression where we fit a straight line to the data.\n"
   ]
  },
  {
   "cell_type": "code",
   "execution_count": 1,
   "metadata": {},
   "outputs": [],
   "source": [
    "import numpy as np\n",
    "import pandas as pd\n",
    "import matplotlib.pyplot as plt\n",
    "import seaborn as sns\n",
    "from sklearn.model_selection import train_test_split\n",
    "from sklearn.linear_model import LinearRegression\n",
    "\n",
    "%matplotlib inline\n",
    "sns.set(rc={'figure.figsize': [7, 7]}, font_scale=1.2)"
   ]
  },
  {
   "cell_type": "code",
   "execution_count": 2,
   "metadata": {},
   "outputs": [
    {
     "data": {
      "text/html": [
       "<div>\n",
       "<style scoped>\n",
       "    .dataframe tbody tr th:only-of-type {\n",
       "        vertical-align: middle;\n",
       "    }\n",
       "\n",
       "    .dataframe tbody tr th {\n",
       "        vertical-align: top;\n",
       "    }\n",
       "\n",
       "    .dataframe thead th {\n",
       "        text-align: right;\n",
       "    }\n",
       "</style>\n",
       "<table border=\"1\" class=\"dataframe\">\n",
       "  <thead>\n",
       "    <tr style=\"text-align: right;\">\n",
       "      <th></th>\n",
       "      <th>YearsExperience</th>\n",
       "      <th>Salary</th>\n",
       "    </tr>\n",
       "  </thead>\n",
       "  <tbody>\n",
       "    <tr>\n",
       "      <th>0</th>\n",
       "      <td>1.1</td>\n",
       "      <td>39343.0</td>\n",
       "    </tr>\n",
       "    <tr>\n",
       "      <th>1</th>\n",
       "      <td>1.3</td>\n",
       "      <td>46205.0</td>\n",
       "    </tr>\n",
       "    <tr>\n",
       "      <th>2</th>\n",
       "      <td>1.5</td>\n",
       "      <td>37731.0</td>\n",
       "    </tr>\n",
       "    <tr>\n",
       "      <th>3</th>\n",
       "      <td>2.0</td>\n",
       "      <td>43525.0</td>\n",
       "    </tr>\n",
       "    <tr>\n",
       "      <th>4</th>\n",
       "      <td>2.2</td>\n",
       "      <td>39891.0</td>\n",
       "    </tr>\n",
       "    <tr>\n",
       "      <th>5</th>\n",
       "      <td>2.9</td>\n",
       "      <td>56642.0</td>\n",
       "    </tr>\n",
       "    <tr>\n",
       "      <th>6</th>\n",
       "      <td>3.0</td>\n",
       "      <td>60150.0</td>\n",
       "    </tr>\n",
       "    <tr>\n",
       "      <th>7</th>\n",
       "      <td>3.2</td>\n",
       "      <td>54445.0</td>\n",
       "    </tr>\n",
       "    <tr>\n",
       "      <th>8</th>\n",
       "      <td>3.2</td>\n",
       "      <td>64445.0</td>\n",
       "    </tr>\n",
       "    <tr>\n",
       "      <th>9</th>\n",
       "      <td>3.7</td>\n",
       "      <td>57189.0</td>\n",
       "    </tr>\n",
       "    <tr>\n",
       "      <th>10</th>\n",
       "      <td>3.9</td>\n",
       "      <td>63218.0</td>\n",
       "    </tr>\n",
       "    <tr>\n",
       "      <th>11</th>\n",
       "      <td>4.0</td>\n",
       "      <td>55794.0</td>\n",
       "    </tr>\n",
       "    <tr>\n",
       "      <th>12</th>\n",
       "      <td>4.0</td>\n",
       "      <td>56957.0</td>\n",
       "    </tr>\n",
       "    <tr>\n",
       "      <th>13</th>\n",
       "      <td>4.1</td>\n",
       "      <td>57081.0</td>\n",
       "    </tr>\n",
       "    <tr>\n",
       "      <th>14</th>\n",
       "      <td>4.5</td>\n",
       "      <td>61111.0</td>\n",
       "    </tr>\n",
       "    <tr>\n",
       "      <th>15</th>\n",
       "      <td>4.9</td>\n",
       "      <td>67938.0</td>\n",
       "    </tr>\n",
       "    <tr>\n",
       "      <th>16</th>\n",
       "      <td>5.1</td>\n",
       "      <td>66029.0</td>\n",
       "    </tr>\n",
       "    <tr>\n",
       "      <th>17</th>\n",
       "      <td>5.3</td>\n",
       "      <td>83088.0</td>\n",
       "    </tr>\n",
       "    <tr>\n",
       "      <th>18</th>\n",
       "      <td>5.9</td>\n",
       "      <td>81363.0</td>\n",
       "    </tr>\n",
       "    <tr>\n",
       "      <th>19</th>\n",
       "      <td>6.0</td>\n",
       "      <td>93940.0</td>\n",
       "    </tr>\n",
       "    <tr>\n",
       "      <th>20</th>\n",
       "      <td>6.8</td>\n",
       "      <td>91738.0</td>\n",
       "    </tr>\n",
       "    <tr>\n",
       "      <th>21</th>\n",
       "      <td>7.1</td>\n",
       "      <td>98273.0</td>\n",
       "    </tr>\n",
       "    <tr>\n",
       "      <th>22</th>\n",
       "      <td>7.9</td>\n",
       "      <td>101302.0</td>\n",
       "    </tr>\n",
       "    <tr>\n",
       "      <th>23</th>\n",
       "      <td>8.2</td>\n",
       "      <td>113812.0</td>\n",
       "    </tr>\n",
       "    <tr>\n",
       "      <th>24</th>\n",
       "      <td>8.7</td>\n",
       "      <td>109431.0</td>\n",
       "    </tr>\n",
       "    <tr>\n",
       "      <th>25</th>\n",
       "      <td>9.0</td>\n",
       "      <td>105582.0</td>\n",
       "    </tr>\n",
       "    <tr>\n",
       "      <th>26</th>\n",
       "      <td>9.5</td>\n",
       "      <td>116969.0</td>\n",
       "    </tr>\n",
       "    <tr>\n",
       "      <th>27</th>\n",
       "      <td>9.6</td>\n",
       "      <td>112635.0</td>\n",
       "    </tr>\n",
       "    <tr>\n",
       "      <th>28</th>\n",
       "      <td>10.3</td>\n",
       "      <td>122391.0</td>\n",
       "    </tr>\n",
       "    <tr>\n",
       "      <th>29</th>\n",
       "      <td>10.5</td>\n",
       "      <td>121872.0</td>\n",
       "    </tr>\n",
       "  </tbody>\n",
       "</table>\n",
       "</div>"
      ],
      "text/plain": [
       "    YearsExperience    Salary\n",
       "0               1.1   39343.0\n",
       "1               1.3   46205.0\n",
       "2               1.5   37731.0\n",
       "3               2.0   43525.0\n",
       "4               2.2   39891.0\n",
       "5               2.9   56642.0\n",
       "6               3.0   60150.0\n",
       "7               3.2   54445.0\n",
       "8               3.2   64445.0\n",
       "9               3.7   57189.0\n",
       "10              3.9   63218.0\n",
       "11              4.0   55794.0\n",
       "12              4.0   56957.0\n",
       "13              4.1   57081.0\n",
       "14              4.5   61111.0\n",
       "15              4.9   67938.0\n",
       "16              5.1   66029.0\n",
       "17              5.3   83088.0\n",
       "18              5.9   81363.0\n",
       "19              6.0   93940.0\n",
       "20              6.8   91738.0\n",
       "21              7.1   98273.0\n",
       "22              7.9  101302.0\n",
       "23              8.2  113812.0\n",
       "24              8.7  109431.0\n",
       "25              9.0  105582.0\n",
       "26              9.5  116969.0\n",
       "27              9.6  112635.0\n",
       "28             10.3  122391.0\n",
       "29             10.5  121872.0"
      ]
     },
     "execution_count": 2,
     "metadata": {},
     "output_type": "execute_result"
    }
   ],
   "source": [
    "df = pd.read_csv('Salary_Data.csv')\n",
    "df"
   ]
  },
  {
   "cell_type": "code",
   "execution_count": 3,
   "metadata": {},
   "outputs": [
    {
     "data": {
      "text/plain": [
       "<seaborn.axisgrid.JointGrid at 0x7f4634d32f70>"
      ]
     },
     "execution_count": 3,
     "metadata": {},
     "output_type": "execute_result"
    },
    {
     "data": {
      "image/png": "[encoded data removed]",
      "text/plain": [
       "<Figure size 432x432 with 3 Axes>"
      ]
     },
     "metadata": {
      "needs_background": "light"
     },
     "output_type": "display_data"
    }
   ],
   "source": [
    "sns.jointplot(x='YearsExperience', y='Salary', data=df)"
   ]
  },
  {
   "cell_type": "code",
   "execution_count": 4,
   "metadata": {},
   "outputs": [],
   "source": [
    "x = df['YearsExperience'].values.reshape(-1, 1)\n",
    "y = df['Salary']\n",
    "x_train, x_test, y_train, y_test = train_test_split(x, y, test_size=0.3, random_state=42)"
   ]
  },
  {
   "cell_type": "code",
   "execution_count": 7,
   "metadata": {},
   "outputs": [],
   "source": [
    "model = LinearRegression()\n",
    "model.fit(x_train, y_train)\n",
    "y_pred = model.predict(x_test)\n"
   ]
  },
  {
   "cell_type": "code",
   "execution_count": 8,
   "metadata": {},
   "outputs": [
    {
     "data": {
      "text/plain": [
       "<matplotlib.legend.Legend at 0x7f462ca75a60>"
      ]
     },
     "execution_count": 8,
     "metadata": {},
     "output_type": "execute_result"
    },
    {
     "data": {
      "image/png": "[encoded data removed]",
      "text/plain": [
       "<Figure size 432x288 with 1 Axes>"
      ]
     },
     "metadata": {
      "needs_background": "light"
     },
     "output_type": "display_data"
    }
   ],
   "source": [
    "plt.plot(x_train, y_train, 'ro', label='training_data')\n",
    "plt.plot(x_test, y_test, 'bo', label='testing_data')\n",
    "plt.plot(x_test, y_pred, 'g-', label='predicted_data')\n",
    "plt.xlabel('YearsExperience')\n",
    "plt.ylabel('Salary')\n",
    "plt.legend()"
   ]
  },
  {
   "cell_type": "code",
   "execution_count": null,
   "metadata": {},
   "outputs": [],
   "source": []
  }
 ],
 "metadata": {
  "author": "Introduction to mathematics of Data Science",
  "kernelspec": {
   "display_name": "Python 3",
   "language": "python",
   "name": "python3"
  },
  "language_info": {
   "codemirror_mode": {
    "name": "ipython",
    "version": 3
   },
   "file_extension": ".py",
   "mimetype": "text/x-python",
   "name": "python",
   "nbconvert_exporter": "python",
   "pygments_lexer": "ipython3",
   "version": "3.8.5"
  },
  "latex_envs": {
   "LaTeX_envs_menu_present": true,
   "autoclose": false,
   "autocomplete": true,
   "bibliofile": "biblio.bib",
   "cite_by": "apalike",
   "current_citInitial": 1,
   "eqLabelWithNumbers": true,
   "eqNumInitial": 1,
   "hotkeys": {
    "equation": "Ctrl-E",
    "itemize": "Ctrl-I"
   },
   "labels_anchors": false,
   "latex_user_defs": false,
   "report_style_numbering": false,
   "user_envs_cfg": false
  }
 },
 "nbformat": 4,
 "nbformat_minor": 4
}
